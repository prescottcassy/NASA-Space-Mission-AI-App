{
 "cells": [
  {
   "cell_type": "code",
   "execution_count": 9,
   "id": "be516c56-5451-4439-8373-7ae2600969f6",
   "metadata": {},
   "outputs": [],
   "source": [
    "# orbit_snap.py\n",
    "\n",
    "# Import python libraries for API key that will fetch NASA's Astronomy Picture of the Day\n",
    "#!pip install streamlit transformers requests\n",
    "import requests\n",
    "import streamlit as st\n",
    "from transformers import pipeline"
   ]
  },
  {
   "cell_type": "code",
   "execution_count": 11,
   "id": "42577c93-bd6b-4d5d-9f06-c381f3947905",
   "metadata": {},
   "outputs": [
    {
     "name": "stderr",
     "output_type": "stream",
     "text": [
      "Device set to use cuda:0\n"
     ]
    }
   ],
   "source": [
    "# NASA APOD API Setup\n",
    "API_KEY = \"zSKrKQgBxbgjf7aMxT2Z3T9a5RVrCnRsZdJS6lCQ\"\n",
    "\n",
    "APOD_URL = f\"https://api.nasa.gov/planetary/apod?api_key={API_KEY}\"\n",
    "\n",
    "# Load summarization model\n",
    "summarizer = pipeline(\"summarization\", model=\"facebook/bart-large-cnn\")"
   ]
  },
  {
   "cell_type": "code",
   "execution_count": 15,
   "id": "2d7ead7d-c6d1-459f-bef4-d642e9ee9ee8",
   "metadata": {},
   "outputs": [
    {
     "name": "stderr",
     "output_type": "stream",
     "text": [
      "2025-07-19 22:40:01.783 \n",
      "  \u001b[33m\u001b[1mWarning:\u001b[0m to view this Streamlit app on a browser, run it with the following\n",
      "  command:\n",
      "\n",
      "    streamlit run C:\\Users\\presc\\anaconda3\\Lib\\site-packages\\ipykernel_launcher.py [ARGUMENTS]\n"
     ]
    }
   ],
   "source": [
    "# API Fetching\n",
    "def fetch_apod_data():\n",
    "    try:\n",
    "        response = requests.get(APOD_URL)\n",
    "        response.raise_for_status()\n",
    "        return response.json()\n",
    "    except requests.exceptions.RequestException as e:\n",
    "        st.error(f\"NASA API error: {e}\")\n",
    "        return None\n",
    "\n",
    "def display_apod(data):\n",
    "    st.title(\" Astronomy Picture of the Day\")\n",
    "    \n",
    "    if \"url\" in data:\n",
    "        st.image(data['url'], caption=data.get('title', ''), use_column_width=True)\n",
    "\n",
    "    st.subheader(\"Date\")\n",
    "    st.text(data.get('date', 'Unknown'))\n",
    "\n",
    "    st.subheader(\"Description\")\n",
    "    st.write(data.get('explanation', 'No description available'))\n",
    "\n",
    "    st.markdown(f\"[View on NASA]({data.get('hdurl', '')})\")\n",
    "\n",
    "def main():\n",
    "    st.sidebar.header(\"🚀 Orbit Snap Controls\")\n",
    "    st.sidebar.write(\"Fetching today’s space image...\")\n",
    "\n",
    "    apod_data = fetch_apod_data()\n",
    "    if apod_data:\n",
    "        display_apod(apod_data)\n",
    "\n",
    "if __name__ == \"__main__\":\n",
    "    main()\n"
   ]
  }
 ],
 "metadata": {
  "kernelspec": {
   "display_name": "Python [conda env:base] *",
   "language": "python",
   "name": "conda-base-py"
  },
  "language_info": {
   "codemirror_mode": {
    "name": "ipython",
    "version": 3
   },
   "file_extension": ".py",
   "mimetype": "text/x-python",
   "name": "python",
   "nbconvert_exporter": "python",
   "pygments_lexer": "ipython3",
   "version": "3.12.7"
  }
 },
 "nbformat": 4,
 "nbformat_minor": 5
}
